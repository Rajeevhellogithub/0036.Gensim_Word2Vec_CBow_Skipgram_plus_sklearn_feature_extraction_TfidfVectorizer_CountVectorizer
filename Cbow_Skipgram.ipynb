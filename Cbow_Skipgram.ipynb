{
 "cells": [
  {
   "cell_type": "markdown",
   "id": "03639bf7-f01c-48bb-a30b-85c253ad8b97",
   "metadata": {},
   "source": [
    "# Import Libraries"
   ]
  },
  {
   "cell_type": "code",
   "execution_count": 18,
   "id": "ade62d4c-e9c6-4a57-bbee-6e71a4d1a38f",
   "metadata": {},
   "outputs": [],
   "source": [
    "import gensim\n",
    "from gensim.models import Word2Vec\n",
    "from operator import itemgetter"
   ]
  },
  {
   "cell_type": "markdown",
   "id": "7f7174a6-9048-4d0a-b786-dc1620cd468c",
   "metadata": {
    "jp-MarkdownHeadingCollapsed": true
   },
   "source": [
    "# Continuous Bag of Words (CBOW)"
   ]
  },
  {
   "cell_type": "code",
   "execution_count": 23,
   "id": "819ae29b-6fb5-4dbd-9643-1ae1b9ec80b4",
   "metadata": {},
   "outputs": [
    {
     "data": {
      "text/plain": [
       "[['I', 'love', 'natural', 'language', 'processing'],\n",
       " ['Word2Vec', 'is', 'a', 'great', 'tool'],\n",
       " ['Machine', 'learning', 'is', 'fun']]"
      ]
     },
     "execution_count": 23,
     "metadata": {},
     "output_type": "execute_result"
    }
   ],
   "source": [
    "sentences_1 = [\n",
    "    [\"I\", \"love\", \"natural\", \"language\", \"processing\"],\n",
    "    [\"Word2Vec\", \"is\", \"a\", \"great\", \"tool\"],\n",
    "    [\"Machine\", \"learning\", \"is\", \"fun\"],\n",
    "]\n",
    "\n",
    "sentences_1"
   ]
  },
  {
   "cell_type": "code",
   "execution_count": 24,
   "id": "4c25b234-2714-470a-b552-6c31ea13d11d",
   "metadata": {},
   "outputs": [
    {
     "data": {
      "text/plain": [
       "3"
      ]
     },
     "execution_count": 24,
     "metadata": {},
     "output_type": "execute_result"
    }
   ],
   "source": [
    "len(sentences_1)"
   ]
  },
  {
   "cell_type": "markdown",
   "id": "bd110215-f660-47eb-93f8-09412e6c6a75",
   "metadata": {},
   "source": [
    "**Train the Word2Vec model (Fit `sentences` on Word2Vec Model) :-**"
   ]
  },
  {
   "cell_type": "code",
   "execution_count": 25,
   "id": "341bc826-b726-4329-a5e0-cea115065f82",
   "metadata": {},
   "outputs": [
    {
     "data": {
      "text/plain": [
       "gensim.models.word2vec.Word2Vec"
      ]
     },
     "execution_count": 25,
     "metadata": {},
     "output_type": "execute_result"
    }
   ],
   "source": [
    "cbow_model_1 = Word2Vec(sentences_1, vector_size=100, window=5, min_count=1, sg=1)\n",
    "type(cbow_model_1)"
   ]
  },
  {
   "cell_type": "markdown",
   "id": "80f48cb4-3bb6-44a7-8ac7-bf3e0671d84f",
   "metadata": {},
   "source": [
    "**Get the vector for a word (`language`) :-**"
   ]
  },
  {
   "cell_type": "code",
   "execution_count": 26,
   "id": "735c24f8-0ea3-4011-ad08-d6318952de58",
   "metadata": {},
   "outputs": [
    {
     "data": {
      "text/plain": [
       "numpy.ndarray"
      ]
     },
     "execution_count": 26,
     "metadata": {},
     "output_type": "execute_result"
    }
   ],
   "source": [
    "vector_1 = cbow_model_1.wv['language']\n",
    "type(vector_1)"
   ]
  },
  {
   "cell_type": "code",
   "execution_count": 27,
   "id": "0e91f9ac-082f-42f1-8ae8-3b6642c66baa",
   "metadata": {},
   "outputs": [
    {
     "data": {
      "text/plain": [
       "(100,)"
      ]
     },
     "execution_count": 27,
     "metadata": {},
     "output_type": "execute_result"
    }
   ],
   "source": [
    "vector_1.shape"
   ]
  },
  {
   "cell_type": "code",
   "execution_count": 28,
   "id": "cb1a45cf-a195-4965-95a6-448183597e17",
   "metadata": {},
   "outputs": [
    {
     "name": "stdout",
     "output_type": "stream",
     "text": [
      "Vector for 'language':\n",
      "\n",
      " [-0.00515624 -0.00666834 -0.00777684  0.00831073 -0.00198234 -0.00685496\n",
      " -0.00415439  0.00514413 -0.00286914 -0.00374966  0.00162143 -0.00277629\n",
      " -0.00158436  0.00107449 -0.00297794  0.00851928  0.00391094 -0.00995886\n",
      "  0.0062596  -0.00675425  0.00076943  0.00440423 -0.00510337 -0.00211067\n",
      "  0.00809548 -0.00424379 -0.00763626  0.00925791 -0.0021555  -0.00471943\n",
      "  0.0085708   0.00428334  0.00432484  0.00928451 -0.00845308  0.00525532\n",
      "  0.00203935  0.00418828  0.0016979   0.00446413  0.00448629  0.00610452\n",
      " -0.0032021  -0.00457573 -0.00042652  0.00253373 -0.00326317  0.00605772\n",
      "  0.00415413  0.00776459  0.00256927  0.00811668 -0.00138721  0.00807793\n",
      "  0.00371702 -0.00804732 -0.00393361 -0.00247188  0.00489304 -0.00087216\n",
      " -0.00283091  0.00783371  0.0093229  -0.00161493 -0.00515925 -0.00470176\n",
      " -0.00484605 -0.00960283  0.00137202 -0.00422492  0.00252671  0.00561448\n",
      " -0.00406591 -0.00959658  0.0015467  -0.00670012  0.00249517 -0.00378063\n",
      "  0.00707842  0.00064022  0.00356094 -0.00273913 -0.00171055  0.00765279\n",
      "  0.00140768 -0.00585045 -0.0078345   0.00123269  0.00645463  0.00555635\n",
      " -0.00897705  0.00859216  0.00404698  0.00746961  0.00974633 -0.00728958\n",
      " -0.00903996  0.005836    0.00939121  0.00350693]\n"
     ]
    }
   ],
   "source": [
    "print(\"Vector for 'language':\\n\\n\", vector_1)"
   ]
  },
  {
   "cell_type": "markdown",
   "id": "825760db-a5df-4b76-9c99-e3b9b5c7b911",
   "metadata": {},
   "source": [
    "**Find similar words of word `language`**"
   ]
  },
  {
   "cell_type": "code",
   "execution_count": 29,
   "id": "3635f19c-b15b-4212-9b8e-9bc7aa32f168",
   "metadata": {},
   "outputs": [
    {
     "data": {
      "text/plain": [
       "list"
      ]
     },
     "execution_count": 29,
     "metadata": {},
     "output_type": "execute_result"
    }
   ],
   "source": [
    "similar_words_language = cbow_model_1.wv.most_similar('language', topn=5)\n",
    "type(similar_words_language)"
   ]
  },
  {
   "cell_type": "code",
   "execution_count": 30,
   "id": "818c2b88-b147-479c-ac84-f3e79fca5885",
   "metadata": {},
   "outputs": [
    {
     "name": "stdout",
     "output_type": "stream",
     "text": [
      "Words similar to 'language':\n",
      "\n",
      " ['is', 'processing', 'natural', 'a', 'learning']\n"
     ]
    }
   ],
   "source": [
    "print(\"Words similar to 'language':\\n\\n\", list(map(itemgetter(0), similar_words_language)))"
   ]
  },
  {
   "cell_type": "markdown",
   "id": "e9fe18a4-c54b-485a-8982-cd8526ac7674",
   "metadata": {
    "jp-MarkdownHeadingCollapsed": true
   },
   "source": [
    "# Skip-gram"
   ]
  },
  {
   "cell_type": "code",
   "execution_count": 31,
   "id": "2a71ce6a-56ce-43d1-bb33-3878b3188b34",
   "metadata": {},
   "outputs": [
    {
     "data": {
      "text/plain": [
       "[['I', 'love', 'natural', 'language', 'processing'],\n",
       " ['Word2Vec', 'is', 'a', 'great', 'tool'],\n",
       " ['Machine', 'learning', 'is', 'fun'],\n",
       " ['Natural', 'language', 'processing', 'is', 'awesome']]"
      ]
     },
     "execution_count": 31,
     "metadata": {},
     "output_type": "execute_result"
    }
   ],
   "source": [
    "sentences_2 = [\n",
    "    [\"I\", \"love\", \"natural\", \"language\", \"processing\"],\n",
    "    [\"Word2Vec\", \"is\", \"a\", \"great\", \"tool\"],\n",
    "    [\"Machine\", \"learning\", \"is\", \"fun\"],\n",
    "    [\"Natural\", \"language\", \"processing\", \"is\", \"awesome\"]\n",
    "]\n",
    "\n",
    "sentences_2"
   ]
  },
  {
   "cell_type": "code",
   "execution_count": 32,
   "id": "b6be9cc6-167a-4270-9666-283e899ba779",
   "metadata": {},
   "outputs": [
    {
     "name": "stdout",
     "output_type": "stream",
     "text": [
      "4\n",
      "<class 'list'>\n"
     ]
    }
   ],
   "source": [
    "print(len(sentences_2))\n",
    "print(type(sentences_2))"
   ]
  },
  {
   "cell_type": "code",
   "execution_count": 33,
   "id": "73a1d7f7-2265-4153-8710-03bb89e8a40e",
   "metadata": {},
   "outputs": [
    {
     "data": {
      "text/plain": [
       "gensim.models.word2vec.Word2Vec"
      ]
     },
     "execution_count": 33,
     "metadata": {},
     "output_type": "execute_result"
    }
   ],
   "source": [
    "cbow_model = Word2Vec(sentences, vector_size=100, window=2, min_count=1, sg=0)\n",
    "type(cbow_model)"
   ]
  },
  {
   "cell_type": "code",
   "execution_count": 34,
   "id": "8dca16e3-67fe-4662-a567-0c748f17019f",
   "metadata": {},
   "outputs": [
    {
     "data": {
      "text/plain": [
       "gensim.models.word2vec.Word2Vec"
      ]
     },
     "execution_count": 34,
     "metadata": {},
     "output_type": "execute_result"
    }
   ],
   "source": [
    "skipgram_model = Word2Vec(sentences, vector_size=100, window=2, min_count=1, sg=1)\n",
    "type(skipgram_model)"
   ]
  },
  {
   "cell_type": "code",
   "execution_count": 35,
   "id": "e1ca5f6a-2c44-4662-a4cb-e73da5b967cb",
   "metadata": {},
   "outputs": [
    {
     "name": "stdout",
     "output_type": "stream",
     "text": [
      "<class 'numpy.ndarray'>\n",
      "<class 'numpy.ndarray'>\n"
     ]
    }
   ],
   "source": [
    "word = \"language\"\n",
    "cbow_vector = cbow_model.wv[word]\n",
    "skipgram_vector = skipgram_model.wv[word]\n",
    "\n",
    "print( type(cbow_vector) )\n",
    "print( type(skipgram_vector) )"
   ]
  },
  {
   "cell_type": "code",
   "execution_count": 36,
   "id": "5f0b4d1d-ae74-480d-b23f-038094ba3a61",
   "metadata": {},
   "outputs": [
    {
     "name": "stdout",
     "output_type": "stream",
     "text": [
      "CBOW Vector for 'language':\n",
      "\n",
      " [-0.00515624 -0.00666834 -0.00777684  0.00831073 -0.00198234 -0.00685496\n",
      " -0.00415439  0.00514413 -0.00286914 -0.00374966  0.00162143 -0.00277629\n",
      " -0.00158436  0.00107449 -0.00297794  0.00851928  0.00391094 -0.00995886\n",
      "  0.0062596  -0.00675425  0.00076943  0.00440423 -0.00510337 -0.00211067\n",
      "  0.00809548 -0.00424379 -0.00763626  0.00925791 -0.0021555  -0.00471943\n",
      "  0.0085708   0.00428334  0.00432484  0.00928451 -0.00845308  0.00525532\n",
      "  0.00203935  0.00418828  0.0016979   0.00446413  0.00448629  0.00610452\n",
      " -0.0032021  -0.00457573 -0.00042652  0.00253373 -0.00326317  0.00605772\n",
      "  0.00415413  0.00776459  0.00256927  0.00811668 -0.00138721  0.00807793\n",
      "  0.00371702 -0.00804732 -0.00393361 -0.00247188  0.00489304 -0.00087216\n",
      " -0.00283091  0.00783371  0.0093229  -0.00161493 -0.00515925 -0.00470176\n",
      " -0.00484605 -0.00960283  0.00137202 -0.00422492  0.00252671  0.00561448\n",
      " -0.00406591 -0.00959658  0.0015467  -0.00670012  0.00249517 -0.00378063\n",
      "  0.00707842  0.00064022  0.00356094 -0.00273913 -0.00171055  0.00765279\n",
      "  0.00140768 -0.00585045 -0.0078345   0.00123269  0.00645463  0.00555635\n",
      " -0.00897705  0.00859216  0.00404698  0.00746961  0.00974633 -0.00728958\n",
      " -0.00903996  0.005836    0.00939121  0.00350693]\n"
     ]
    }
   ],
   "source": [
    "print(f\"CBOW Vector for '{word}':\\n\\n\", cbow_vector)"
   ]
  },
  {
   "cell_type": "code",
   "execution_count": 37,
   "id": "d049b7af-eb97-4d05-851a-3ee11a1b0fa4",
   "metadata": {},
   "outputs": [
    {
     "name": "stdout",
     "output_type": "stream",
     "text": [
      "Skip-gram Vector for 'language':\n",
      "\n",
      " [-0.00515624 -0.00666834 -0.00777684  0.00831073 -0.00198234 -0.00685496\n",
      " -0.00415439  0.00514413 -0.00286914 -0.00374966  0.00162143 -0.00277629\n",
      " -0.00158436  0.00107449 -0.00297794  0.00851928  0.00391094 -0.00995886\n",
      "  0.0062596  -0.00675425  0.00076943  0.00440423 -0.00510337 -0.00211067\n",
      "  0.00809548 -0.00424379 -0.00763626  0.00925791 -0.0021555  -0.00471943\n",
      "  0.0085708   0.00428334  0.00432484  0.00928451 -0.00845308  0.00525532\n",
      "  0.00203935  0.00418828  0.0016979   0.00446413  0.00448629  0.00610452\n",
      " -0.0032021  -0.00457573 -0.00042652  0.00253373 -0.00326317  0.00605772\n",
      "  0.00415413  0.00776459  0.00256927  0.00811668 -0.00138721  0.00807793\n",
      "  0.00371702 -0.00804732 -0.00393361 -0.00247188  0.00489304 -0.00087216\n",
      " -0.00283091  0.00783371  0.0093229  -0.00161493 -0.00515925 -0.00470176\n",
      " -0.00484605 -0.00960283  0.00137202 -0.00422492  0.00252671  0.00561448\n",
      " -0.00406591 -0.00959658  0.0015467  -0.00670012  0.00249517 -0.00378063\n",
      "  0.00707842  0.00064022  0.00356094 -0.00273913 -0.00171055  0.00765279\n",
      "  0.00140768 -0.00585045 -0.0078345   0.00123269  0.00645463  0.00555635\n",
      " -0.00897705  0.00859216  0.00404698  0.00746961  0.00974633 -0.00728958\n",
      " -0.00903996  0.005836    0.00939121  0.00350693]\n"
     ]
    }
   ],
   "source": [
    "print(f\"Skip-gram Vector for '{word}':\\n\\n\", skipgram_vector)"
   ]
  },
  {
   "cell_type": "code",
   "execution_count": 38,
   "id": "15d3692e-5e0b-4a3f-8e78-2cfcd6da9e49",
   "metadata": {},
   "outputs": [
    {
     "name": "stdout",
     "output_type": "stream",
     "text": [
      "<class 'list'>\n",
      "<class 'list'>\n"
     ]
    }
   ],
   "source": [
    "cbow_similar_words = cbow_model.wv.most_similar(word, topn=5)\n",
    "skipgram_similar_words = skipgram_model.wv.most_similar(word, topn=5)\n",
    "\n",
    "print(type(cbow_similar_words))\n",
    "print(type(skipgram_similar_words))"
   ]
  },
  {
   "cell_type": "code",
   "execution_count": 39,
   "id": "50bbc108-b09e-4c96-acb4-e0973164bdd4",
   "metadata": {},
   "outputs": [
    {
     "name": "stdout",
     "output_type": "stream",
     "text": [
      "CBOW - Words similar to 'language':\n",
      "\n",
      " ['is', 'processing', 'natural', 'a', 'learning']\n"
     ]
    }
   ],
   "source": [
    "print(f\"CBOW - Words similar to '{word}':\\n\\n\", list(map(itemgetter(0), cbow_similar_words)))"
   ]
  },
  {
   "cell_type": "code",
   "execution_count": 40,
   "id": "b394d0e2-ea42-4136-a1a8-65d1236e751c",
   "metadata": {},
   "outputs": [
    {
     "name": "stdout",
     "output_type": "stream",
     "text": [
      "Skip-gram - Words similar to 'language':\n",
      "\n",
      " ['is', 'processing', 'natural', 'a', 'learning']\n"
     ]
    }
   ],
   "source": [
    "print(f\"Skip-gram - Words similar to '{word}':\\n\\n\", list(map(itemgetter(0), skipgram_similar_words)))"
   ]
  }
 ],
 "metadata": {
  "kernelspec": {
   "display_name": "Python 3 (ipykernel)",
   "language": "python",
   "name": "python3"
  },
  "language_info": {
   "codemirror_mode": {
    "name": "ipython",
    "version": 3
   },
   "file_extension": ".py",
   "mimetype": "text/x-python",
   "name": "python",
   "nbconvert_exporter": "python",
   "pygments_lexer": "ipython3",
   "version": "3.12.4"
  }
 },
 "nbformat": 4,
 "nbformat_minor": 5
}
